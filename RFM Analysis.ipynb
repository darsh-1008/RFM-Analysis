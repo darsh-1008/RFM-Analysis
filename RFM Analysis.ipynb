{
 "cells": [
  {
   "cell_type": "code",
   "execution_count": null,
   "id": "ea53b964-5e55-4b4a-8817-ba447f1c939e",
   "metadata": {},
   "outputs": [],
   "source": [
    "# dataset- https://drive.google.com/file/d/1XvS2y7eA-yPn8aVbfobCQAlMNB06J_wQ/view?usp=drive_link"
   ]
  },
  {
   "cell_type": "code",
   "execution_count": 3,
   "id": "d2da50dc-fa23-4cfe-8ae7-2c6c242177af",
   "metadata": {},
   "outputs": [],
   "source": [
    "# Importing the libraries\n",
    "import numpy as np\n",
    "import pandas as pd\n",
    "import matplotlib.pyplot as plt\n",
    "import seaborn as sns\n",
    "import datetime as dt \n",
    "\n",
    "# Ignore warnings\n",
    "import warnings\n",
    "warnings.filterwarnings('ignore')"
   ]
  },
  {
   "cell_type": "code",
   "execution_count": 4,
   "id": "d7b1de0d-2e57-4329-b527-e52a8f85ec66",
   "metadata": {},
   "outputs": [
    {
     "data": {
      "text/plain": [
       "(541116, 12)"
      ]
     },
     "execution_count": 4,
     "metadata": {},
     "output_type": "execute_result"
    }
   ],
   "source": [
    "# data import\n",
    "data = pd.read_csv('E-com_Data.csv')\n",
    "\n",
    "# data dimension\n",
    "data.shape"
   ]
  },
  {
   "cell_type": "code",
   "execution_count": 5,
   "id": "8777e2ea-730e-4e96-872e-6bc47ed8022a",
   "metadata": {},
   "outputs": [
    {
     "data": {
      "text/html": [
       "<div>\n",
       "<style scoped>\n",
       "    .dataframe tbody tr th:only-of-type {\n",
       "        vertical-align: middle;\n",
       "    }\n",
       "\n",
       "    .dataframe tbody tr th {\n",
       "        vertical-align: top;\n",
       "    }\n",
       "\n",
       "    .dataframe thead th {\n",
       "        text-align: right;\n",
       "    }\n",
       "</style>\n",
       "<table border=\"1\" class=\"dataframe\">\n",
       "  <thead>\n",
       "    <tr style=\"text-align: right;\">\n",
       "      <th></th>\n",
       "      <th>CustomerID</th>\n",
       "      <th>Item Code</th>\n",
       "      <th>InvoieNo</th>\n",
       "      <th>Date of purchase</th>\n",
       "      <th>Quantity</th>\n",
       "      <th>Time</th>\n",
       "      <th>price per Unit</th>\n",
       "      <th>Price</th>\n",
       "      <th>Shipping Location</th>\n",
       "      <th>Cancelled_status</th>\n",
       "      <th>Reason of return</th>\n",
       "      <th>Sold as set</th>\n",
       "    </tr>\n",
       "  </thead>\n",
       "  <tbody>\n",
       "    <tr>\n",
       "      <th>0</th>\n",
       "      <td>4355.0</td>\n",
       "      <td>15734</td>\n",
       "      <td>398177.0</td>\n",
       "      <td>29-10-2017</td>\n",
       "      <td>6.0</td>\n",
       "      <td>3:36:00 PM</td>\n",
       "      <td>321.0</td>\n",
       "      <td>1926.0</td>\n",
       "      <td>Location 1</td>\n",
       "      <td>NaN</td>\n",
       "      <td>NaN</td>\n",
       "      <td>NaN</td>\n",
       "    </tr>\n",
       "    <tr>\n",
       "      <th>1</th>\n",
       "      <td>4352.0</td>\n",
       "      <td>14616</td>\n",
       "      <td>394422.0</td>\n",
       "      <td>05-10-2017</td>\n",
       "      <td>2.0</td>\n",
       "      <td>2:53:00 PM</td>\n",
       "      <td>870.0</td>\n",
       "      <td>1740.0</td>\n",
       "      <td>Location 1</td>\n",
       "      <td>NaN</td>\n",
       "      <td>NaN</td>\n",
       "      <td>NaN</td>\n",
       "    </tr>\n",
       "    <tr>\n",
       "      <th>2</th>\n",
       "      <td>4352.0</td>\n",
       "      <td>14614</td>\n",
       "      <td>394422.0</td>\n",
       "      <td>12-10-2017</td>\n",
       "      <td>2.0</td>\n",
       "      <td>2:53:00 PM</td>\n",
       "      <td>933.0</td>\n",
       "      <td>1866.0</td>\n",
       "      <td>Location 1</td>\n",
       "      <td>NaN</td>\n",
       "      <td>NaN</td>\n",
       "      <td>NaN</td>\n",
       "    </tr>\n",
       "    <tr>\n",
       "      <th>3</th>\n",
       "      <td>4352.0</td>\n",
       "      <td>85014B</td>\n",
       "      <td>388633.0</td>\n",
       "      <td>22-08-2017</td>\n",
       "      <td>3.0</td>\n",
       "      <td>2:47:00 PM</td>\n",
       "      <td>623.0</td>\n",
       "      <td>1869.0</td>\n",
       "      <td>Location 1</td>\n",
       "      <td>NaN</td>\n",
       "      <td>NaN</td>\n",
       "      <td>NaN</td>\n",
       "    </tr>\n",
       "    <tr>\n",
       "      <th>4</th>\n",
       "      <td>4352.0</td>\n",
       "      <td>15364</td>\n",
       "      <td>394422.0</td>\n",
       "      <td>10-10-2017</td>\n",
       "      <td>2.0</td>\n",
       "      <td>2:53:00 PM</td>\n",
       "      <td>944.0</td>\n",
       "      <td>1888.0</td>\n",
       "      <td>Location 1</td>\n",
       "      <td>NaN</td>\n",
       "      <td>NaN</td>\n",
       "      <td>NaN</td>\n",
       "    </tr>\n",
       "  </tbody>\n",
       "</table>\n",
       "</div>"
      ],
      "text/plain": [
       "   CustomerID Item Code  InvoieNo Date of purchase  Quantity        Time  \\\n",
       "0      4355.0     15734  398177.0       29-10-2017       6.0  3:36:00 PM   \n",
       "1      4352.0     14616  394422.0       05-10-2017       2.0  2:53:00 PM   \n",
       "2      4352.0     14614  394422.0       12-10-2017       2.0  2:53:00 PM   \n",
       "3      4352.0    85014B  388633.0       22-08-2017       3.0  2:47:00 PM   \n",
       "4      4352.0     15364  394422.0       10-10-2017       2.0  2:53:00 PM   \n",
       "\n",
       "   price per Unit   Price Shipping Location Cancelled_status Reason of return  \\\n",
       "0           321.0  1926.0        Location 1              NaN              NaN   \n",
       "1           870.0  1740.0        Location 1              NaN              NaN   \n",
       "2           933.0  1866.0        Location 1              NaN              NaN   \n",
       "3           623.0  1869.0        Location 1              NaN              NaN   \n",
       "4           944.0  1888.0        Location 1              NaN              NaN   \n",
       "\n",
       "   Sold as set  \n",
       "0          NaN  \n",
       "1          NaN  \n",
       "2          NaN  \n",
       "3          NaN  \n",
       "4          NaN  "
      ]
     },
     "execution_count": 5,
     "metadata": {},
     "output_type": "execute_result"
    }
   ],
   "source": [
    "data.head()"
   ]
  },
  {
   "cell_type": "code",
   "execution_count": 6,
   "id": "06a79e24-209c-4410-9665-14278e8393b8",
   "metadata": {},
   "outputs": [
    {
     "name": "stdout",
     "output_type": "stream",
     "text": [
      "Requirement already satisfied: ydata-profiling in c:\\users\\admin\\anaconda3\\lib\\site-packages (4.12.2)\n",
      "Requirement already satisfied: scipy<1.16,>=1.4.1 in c:\\users\\admin\\anaconda3\\lib\\site-packages (from ydata-profiling) (1.10.1)\n",
      "Requirement already satisfied: pandas!=1.4.0,<3,>1.1 in c:\\users\\admin\\anaconda3\\lib\\site-packages (from ydata-profiling) (2.2.3)\n",
      "Requirement already satisfied: matplotlib>=3.5 in c:\\users\\admin\\anaconda3\\lib\\site-packages (from ydata-profiling) (3.7.1)\n",
      "Requirement already satisfied: pydantic>=2 in c:\\users\\admin\\anaconda3\\lib\\site-packages (from ydata-profiling) (2.5.3)\n",
      "Requirement already satisfied: PyYAML<6.1,>=5.0.0 in c:\\users\\admin\\anaconda3\\lib\\site-packages (from ydata-profiling) (6.0)\n",
      "Requirement already satisfied: jinja2<3.2,>=2.11.1 in c:\\users\\admin\\anaconda3\\lib\\site-packages (from ydata-profiling) (3.1.2)\n",
      "Requirement already satisfied: visions[type_image_path]<0.8.0,>=0.7.5 in c:\\users\\admin\\anaconda3\\lib\\site-packages (from ydata-profiling) (0.7.6)\n",
      "Requirement already satisfied: numpy<2.2,>=1.16.0 in c:\\users\\admin\\anaconda3\\lib\\site-packages (from ydata-profiling) (1.24.3)\n",
      "Requirement already satisfied: htmlmin==0.1.12 in c:\\users\\admin\\anaconda3\\lib\\site-packages (from ydata-profiling) (0.1.12)\n",
      "Requirement already satisfied: phik<0.13,>=0.11.1 in c:\\users\\admin\\anaconda3\\lib\\site-packages (from ydata-profiling) (0.12.4)\n",
      "Requirement already satisfied: requests<3,>=2.24.0 in c:\\users\\admin\\anaconda3\\lib\\site-packages (from ydata-profiling) (2.31.0)\n",
      "Requirement already satisfied: tqdm<5,>=4.48.2 in c:\\users\\admin\\anaconda3\\lib\\site-packages (from ydata-profiling) (4.65.0)\n",
      "Requirement already satisfied: seaborn<0.14,>=0.10.1 in c:\\users\\admin\\anaconda3\\lib\\site-packages (from ydata-profiling) (0.12.2)\n",
      "Requirement already satisfied: multimethod<2,>=1.4 in c:\\users\\admin\\anaconda3\\lib\\site-packages (from ydata-profiling) (1.12)\n",
      "Requirement already satisfied: statsmodels<1,>=0.13.2 in c:\\users\\admin\\anaconda3\\lib\\site-packages (from ydata-profiling) (0.14.0)\n",
      "Requirement already satisfied: typeguard<5,>=3 in c:\\users\\admin\\anaconda3\\lib\\site-packages (from ydata-profiling) (4.4.1)\n",
      "Requirement already satisfied: imagehash==4.3.1 in c:\\users\\admin\\anaconda3\\lib\\site-packages (from ydata-profiling) (4.3.1)\n",
      "Requirement already satisfied: wordcloud>=1.9.3 in c:\\users\\admin\\anaconda3\\lib\\site-packages (from ydata-profiling) (1.9.4)\n",
      "Requirement already satisfied: dacite>=1.8 in c:\\users\\admin\\anaconda3\\lib\\site-packages (from ydata-profiling) (1.8.1)\n",
      "Requirement already satisfied: PyWavelets in c:\\users\\admin\\anaconda3\\lib\\site-packages (from imagehash==4.3.1->ydata-profiling) (1.4.1)\n",
      "Requirement already satisfied: pillow in c:\\users\\admin\\anaconda3\\lib\\site-packages (from imagehash==4.3.1->ydata-profiling) (10.3.0)\n",
      "Requirement already satisfied: MarkupSafe>=2.0 in c:\\users\\admin\\anaconda3\\lib\\site-packages (from jinja2<3.2,>=2.11.1->ydata-profiling) (2.1.1)\n",
      "Requirement already satisfied: contourpy>=1.0.1 in c:\\users\\admin\\anaconda3\\lib\\site-packages (from matplotlib>=3.5->ydata-profiling) (1.0.5)\n",
      "Requirement already satisfied: cycler>=0.10 in c:\\users\\admin\\anaconda3\\lib\\site-packages (from matplotlib>=3.5->ydata-profiling) (0.11.0)\n",
      "Requirement already satisfied: fonttools>=4.22.0 in c:\\users\\admin\\anaconda3\\lib\\site-packages (from matplotlib>=3.5->ydata-profiling) (4.25.0)\n",
      "Requirement already satisfied: kiwisolver>=1.0.1 in c:\\users\\admin\\anaconda3\\lib\\site-packages (from matplotlib>=3.5->ydata-profiling) (1.4.4)\n",
      "Requirement already satisfied: packaging>=20.0 in c:\\users\\admin\\anaconda3\\lib\\site-packages (from matplotlib>=3.5->ydata-profiling) (23.0)\n",
      "Requirement already satisfied: pyparsing>=2.3.1 in c:\\users\\admin\\anaconda3\\lib\\site-packages (from matplotlib>=3.5->ydata-profiling) (3.0.9)\n",
      "Requirement already satisfied: python-dateutil>=2.7 in c:\\users\\admin\\anaconda3\\lib\\site-packages (from matplotlib>=3.5->ydata-profiling) (2.8.2)\n",
      "Requirement already satisfied: pytz>=2020.1 in c:\\users\\admin\\anaconda3\\lib\\site-packages (from pandas!=1.4.0,<3,>1.1->ydata-profiling) (2022.7)\n",
      "Requirement already satisfied: tzdata>=2022.7 in c:\\users\\admin\\anaconda3\\lib\\site-packages (from pandas!=1.4.0,<3,>1.1->ydata-profiling) (2025.1)\n",
      "Requirement already satisfied: joblib>=0.14.1 in c:\\users\\admin\\anaconda3\\lib\\site-packages (from phik<0.13,>=0.11.1->ydata-profiling) (1.2.0)\n",
      "Requirement already satisfied: annotated-types>=0.4.0 in c:\\users\\admin\\anaconda3\\lib\\site-packages (from pydantic>=2->ydata-profiling) (0.6.0)\n",
      "Requirement already satisfied: pydantic-core==2.14.6 in c:\\users\\admin\\anaconda3\\lib\\site-packages (from pydantic>=2->ydata-profiling) (2.14.6)\n",
      "Requirement already satisfied: typing-extensions>=4.6.1 in c:\\users\\admin\\anaconda3\\lib\\site-packages (from pydantic>=2->ydata-profiling) (4.12.2)\n",
      "Requirement already satisfied: charset-normalizer<4,>=2 in c:\\users\\admin\\anaconda3\\lib\\site-packages (from requests<3,>=2.24.0->ydata-profiling) (2.0.4)\n",
      "Requirement already satisfied: idna<4,>=2.5 in c:\\users\\admin\\anaconda3\\lib\\site-packages (from requests<3,>=2.24.0->ydata-profiling) (3.4)\n",
      "Requirement already satisfied: urllib3<3,>=1.21.1 in c:\\users\\admin\\anaconda3\\lib\\site-packages (from requests<3,>=2.24.0->ydata-profiling) (1.26.16)\n",
      "Requirement already satisfied: certifi>=2017.4.17 in c:\\users\\admin\\anaconda3\\lib\\site-packages (from requests<3,>=2.24.0->ydata-profiling) (2024.8.30)\n",
      "Requirement already satisfied: patsy>=0.5.2 in c:\\users\\admin\\anaconda3\\lib\\site-packages (from statsmodels<1,>=0.13.2->ydata-profiling) (0.5.3)\n",
      "Requirement already satisfied: colorama in c:\\users\\admin\\anaconda3\\lib\\site-packages (from tqdm<5,>=4.48.2->ydata-profiling) (0.4.6)\n",
      "Requirement already satisfied: attrs>=19.3.0 in c:\\users\\admin\\anaconda3\\lib\\site-packages (from visions[type_image_path]<0.8.0,>=0.7.5->ydata-profiling) (23.1.0)\n",
      "Requirement already satisfied: networkx>=2.4 in c:\\users\\admin\\anaconda3\\lib\\site-packages (from visions[type_image_path]<0.8.0,>=0.7.5->ydata-profiling) (3.1)\n",
      "Requirement already satisfied: six in c:\\users\\admin\\anaconda3\\lib\\site-packages (from patsy>=0.5.2->statsmodels<1,>=0.13.2->ydata-profiling) (1.16.0)\n"
     ]
    }
   ],
   "source": [
    "! pip install ydata-profiling "
   ]
  },
  {
   "cell_type": "code",
   "execution_count": 57,
   "id": "988e2425-837a-429b-8225-a31fda755dc8",
   "metadata": {},
   "outputs": [
    {
     "data": {
      "application/vnd.jupyter.widget-view+json": {
       "model_id": "09d16d50f45643408607c1b178edcaef",
       "version_major": 2,
       "version_minor": 0
      },
      "text/plain": [
       "Summarize dataset:   0%|          | 0/5 [00:00<?, ?it/s]"
      ]
     },
     "metadata": {},
     "output_type": "display_data"
    },
    {
     "data": {
      "application/vnd.jupyter.widget-view+json": {
       "model_id": "58cdcf28a21245b6aa820a2b5929aa11",
       "version_major": 2,
       "version_minor": 0
      },
      "text/plain": [
       "Generate report structure:   0%|          | 0/1 [00:00<?, ?it/s]"
      ]
     },
     "metadata": {},
     "output_type": "display_data"
    },
    {
     "data": {
      "application/vnd.jupyter.widget-view+json": {
       "model_id": "7a82e2a456e0497db299003c366a8fbb",
       "version_major": 2,
       "version_minor": 0
      },
      "text/plain": [
       "Render HTML:   0%|          | 0/1 [00:00<?, ?it/s]"
      ]
     },
     "metadata": {},
     "output_type": "display_data"
    },
    {
     "data": {
      "application/vnd.jupyter.widget-view+json": {
       "model_id": "6bfc6e6007004254ab436d3e0c38d856",
       "version_major": 2,
       "version_minor": 0
      },
      "text/plain": [
       "Export report to file:   0%|          | 0/1 [00:00<?, ?it/s]"
      ]
     },
     "metadata": {},
     "output_type": "display_data"
    }
   ],
   "source": [
    "# Importing the library\n",
    "from ydata_profiling import ProfileReport\n",
    "\n",
    "# creating the report\n",
    "profile = ProfileReport(data, title=\"Profiling Report\") \n",
    "profile.to_file(output_file = 'eda_output.html')"
   ]
  },
  {
   "cell_type": "markdown",
   "id": "cc41523a-1dd6-4f9b-b8b5-291457d6c910",
   "metadata": {},
   "source": [
    "## RFM Analaysis"
   ]
  },
  {
   "cell_type": "code",
   "execution_count": 10,
   "id": "23129159-9331-4dce-ab8c-940cb632c9d4",
   "metadata": {},
   "outputs": [],
   "source": [
    " # Recency: How recently a customer has made a purchase\n",
    "#Frequency: How often a customer makes a purchase\n",
    "#Monetary value: How much money a customer spends on purchases"
   ]
  },
  {
   "cell_type": "code",
   "execution_count": 11,
   "id": "adad9ff9-ed2c-437d-adab-d07f0d3d255d",
   "metadata": {},
   "outputs": [
    {
     "data": {
      "text/html": [
       "<div>\n",
       "<style scoped>\n",
       "    .dataframe tbody tr th:only-of-type {\n",
       "        vertical-align: middle;\n",
       "    }\n",
       "\n",
       "    .dataframe tbody tr th {\n",
       "        vertical-align: top;\n",
       "    }\n",
       "\n",
       "    .dataframe thead th {\n",
       "        text-align: right;\n",
       "    }\n",
       "</style>\n",
       "<table border=\"1\" class=\"dataframe\">\n",
       "  <thead>\n",
       "    <tr style=\"text-align: right;\">\n",
       "      <th></th>\n",
       "      <th>CustomerID</th>\n",
       "      <th>Item Code</th>\n",
       "      <th>InvoieNo</th>\n",
       "      <th>Date of purchase</th>\n",
       "      <th>Quantity</th>\n",
       "      <th>Time</th>\n",
       "      <th>price per Unit</th>\n",
       "      <th>Price</th>\n",
       "      <th>Shipping Location</th>\n",
       "      <th>Cancelled_status</th>\n",
       "      <th>Reason of return</th>\n",
       "      <th>Sold as set</th>\n",
       "    </tr>\n",
       "  </thead>\n",
       "  <tbody>\n",
       "    <tr>\n",
       "      <th>0</th>\n",
       "      <td>4355.0</td>\n",
       "      <td>15734</td>\n",
       "      <td>398177.0</td>\n",
       "      <td>29-10-2017</td>\n",
       "      <td>6.0</td>\n",
       "      <td>3:36:00 PM</td>\n",
       "      <td>321.0</td>\n",
       "      <td>1926.0</td>\n",
       "      <td>Location 1</td>\n",
       "      <td>NaN</td>\n",
       "      <td>NaN</td>\n",
       "      <td>NaN</td>\n",
       "    </tr>\n",
       "    <tr>\n",
       "      <th>1</th>\n",
       "      <td>4352.0</td>\n",
       "      <td>14616</td>\n",
       "      <td>394422.0</td>\n",
       "      <td>05-10-2017</td>\n",
       "      <td>2.0</td>\n",
       "      <td>2:53:00 PM</td>\n",
       "      <td>870.0</td>\n",
       "      <td>1740.0</td>\n",
       "      <td>Location 1</td>\n",
       "      <td>NaN</td>\n",
       "      <td>NaN</td>\n",
       "      <td>NaN</td>\n",
       "    </tr>\n",
       "    <tr>\n",
       "      <th>2</th>\n",
       "      <td>4352.0</td>\n",
       "      <td>14614</td>\n",
       "      <td>394422.0</td>\n",
       "      <td>12-10-2017</td>\n",
       "      <td>2.0</td>\n",
       "      <td>2:53:00 PM</td>\n",
       "      <td>933.0</td>\n",
       "      <td>1866.0</td>\n",
       "      <td>Location 1</td>\n",
       "      <td>NaN</td>\n",
       "      <td>NaN</td>\n",
       "      <td>NaN</td>\n",
       "    </tr>\n",
       "    <tr>\n",
       "      <th>3</th>\n",
       "      <td>4352.0</td>\n",
       "      <td>85014B</td>\n",
       "      <td>388633.0</td>\n",
       "      <td>22-08-2017</td>\n",
       "      <td>3.0</td>\n",
       "      <td>2:47:00 PM</td>\n",
       "      <td>623.0</td>\n",
       "      <td>1869.0</td>\n",
       "      <td>Location 1</td>\n",
       "      <td>NaN</td>\n",
       "      <td>NaN</td>\n",
       "      <td>NaN</td>\n",
       "    </tr>\n",
       "    <tr>\n",
       "      <th>4</th>\n",
       "      <td>4352.0</td>\n",
       "      <td>15364</td>\n",
       "      <td>394422.0</td>\n",
       "      <td>10-10-2017</td>\n",
       "      <td>2.0</td>\n",
       "      <td>2:53:00 PM</td>\n",
       "      <td>944.0</td>\n",
       "      <td>1888.0</td>\n",
       "      <td>Location 1</td>\n",
       "      <td>NaN</td>\n",
       "      <td>NaN</td>\n",
       "      <td>NaN</td>\n",
       "    </tr>\n",
       "  </tbody>\n",
       "</table>\n",
       "</div>"
      ],
      "text/plain": [
       "   CustomerID Item Code  InvoieNo Date of purchase  Quantity        Time  \\\n",
       "0      4355.0     15734  398177.0       29-10-2017       6.0  3:36:00 PM   \n",
       "1      4352.0     14616  394422.0       05-10-2017       2.0  2:53:00 PM   \n",
       "2      4352.0     14614  394422.0       12-10-2017       2.0  2:53:00 PM   \n",
       "3      4352.0    85014B  388633.0       22-08-2017       3.0  2:47:00 PM   \n",
       "4      4352.0     15364  394422.0       10-10-2017       2.0  2:53:00 PM   \n",
       "\n",
       "   price per Unit   Price Shipping Location Cancelled_status Reason of return  \\\n",
       "0           321.0  1926.0        Location 1              NaN              NaN   \n",
       "1           870.0  1740.0        Location 1              NaN              NaN   \n",
       "2           933.0  1866.0        Location 1              NaN              NaN   \n",
       "3           623.0  1869.0        Location 1              NaN              NaN   \n",
       "4           944.0  1888.0        Location 1              NaN              NaN   \n",
       "\n",
       "   Sold as set  \n",
       "0          NaN  \n",
       "1          NaN  \n",
       "2          NaN  \n",
       "3          NaN  \n",
       "4          NaN  "
      ]
     },
     "execution_count": 11,
     "metadata": {},
     "output_type": "execute_result"
    }
   ],
   "source": [
    "data.head()"
   ]
  },
  {
   "cell_type": "code",
   "execution_count": 12,
   "id": "3c395f04-3775-473f-9052-209ea44e3761",
   "metadata": {},
   "outputs": [],
   "source": [
    "# Columns used for RFM Analysis grouped by CustomerId\n",
    "    # 1. Recency - Date of purchase\n",
    "    # 2. Frequency - InvoiceNo\n",
    "    # 3. Monetary - Price"
   ]
  },
  {
   "cell_type": "code",
   "execution_count": 13,
   "id": "64379a6b-851e-46c4-832c-a620a8618bfd",
   "metadata": {},
   "outputs": [
    {
     "data": {
      "text/html": [
       "<div>\n",
       "<style scoped>\n",
       "    .dataframe tbody tr th:only-of-type {\n",
       "        vertical-align: middle;\n",
       "    }\n",
       "\n",
       "    .dataframe tbody tr th {\n",
       "        vertical-align: top;\n",
       "    }\n",
       "\n",
       "    .dataframe thead th {\n",
       "        text-align: right;\n",
       "    }\n",
       "</style>\n",
       "<table border=\"1\" class=\"dataframe\">\n",
       "  <thead>\n",
       "    <tr style=\"text-align: right;\">\n",
       "      <th></th>\n",
       "      <th>CustomerID</th>\n",
       "      <th>InvoiceNo</th>\n",
       "      <th>Date</th>\n",
       "      <th>Price</th>\n",
       "    </tr>\n",
       "  </thead>\n",
       "  <tbody>\n",
       "    <tr>\n",
       "      <th>0</th>\n",
       "      <td>4355.0</td>\n",
       "      <td>398177.0</td>\n",
       "      <td>29-10-2017</td>\n",
       "      <td>1926.0</td>\n",
       "    </tr>\n",
       "    <tr>\n",
       "      <th>1</th>\n",
       "      <td>4352.0</td>\n",
       "      <td>394422.0</td>\n",
       "      <td>05-10-2017</td>\n",
       "      <td>1740.0</td>\n",
       "    </tr>\n",
       "    <tr>\n",
       "      <th>2</th>\n",
       "      <td>4352.0</td>\n",
       "      <td>394422.0</td>\n",
       "      <td>12-10-2017</td>\n",
       "      <td>1866.0</td>\n",
       "    </tr>\n",
       "    <tr>\n",
       "      <th>3</th>\n",
       "      <td>4352.0</td>\n",
       "      <td>388633.0</td>\n",
       "      <td>22-08-2017</td>\n",
       "      <td>1869.0</td>\n",
       "    </tr>\n",
       "    <tr>\n",
       "      <th>4</th>\n",
       "      <td>4352.0</td>\n",
       "      <td>394422.0</td>\n",
       "      <td>10-10-2017</td>\n",
       "      <td>1888.0</td>\n",
       "    </tr>\n",
       "  </tbody>\n",
       "</table>\n",
       "</div>"
      ],
      "text/plain": [
       "   CustomerID  InvoiceNo        Date   Price\n",
       "0      4355.0   398177.0  29-10-2017  1926.0\n",
       "1      4352.0   394422.0  05-10-2017  1740.0\n",
       "2      4352.0   394422.0  12-10-2017  1866.0\n",
       "3      4352.0   388633.0  22-08-2017  1869.0\n",
       "4      4352.0   394422.0  10-10-2017  1888.0"
      ]
     },
     "execution_count": 13,
     "metadata": {},
     "output_type": "execute_result"
    }
   ],
   "source": [
    "# retaining the columns needed for Analysis\n",
    "data = data[['CustomerID', 'InvoieNo', 'Date of purchase', 'Price']]\n",
    "\n",
    "# renaming the columns\n",
    "data = data.rename(columns={'InvoieNo': 'InvoiceNo', 'Date of purchase': 'Date'})\n",
    "\n",
    "# data sample after filterning and renaming\n",
    "data.head()"
   ]
  },
  {
   "cell_type": "code",
   "execution_count": 14,
   "id": "bbc4c2c5-7b99-4b30-b8e0-ba09ef4f9e80",
   "metadata": {},
   "outputs": [
    {
     "data": {
      "text/plain": [
       "CustomerID    25.30\n",
       "InvoiceNo      0.58\n",
       "Date           0.58\n",
       "Price          0.58\n",
       "dtype: float64"
      ]
     },
     "execution_count": 14,
     "metadata": {},
     "output_type": "execute_result"
    }
   ],
   "source": [
    "# missing value percentage\n",
    "round(data.isnull().mean()*100,2)\n"
   ]
  },
  {
   "cell_type": "code",
   "execution_count": 15,
   "id": "176a6a0d-dc20-442a-9b8a-9c63041c8c5b",
   "metadata": {},
   "outputs": [
    {
     "data": {
      "text/plain": [
       "CustomerID    0.0\n",
       "InvoiceNo     0.0\n",
       "Date          0.0\n",
       "Price         0.0\n",
       "dtype: float64"
      ]
     },
     "execution_count": 15,
     "metadata": {},
     "output_type": "execute_result"
    }
   ],
   "source": [
    "# drop the missing value\n",
    "data = data.dropna(subset=['CustomerID'])\n",
    "\n",
    "# missing value percentage after treatment\n",
    "round(data.isnull().mean()*100, 2)"
   ]
  },
  {
   "cell_type": "code",
   "execution_count": 16,
   "id": "3c0199a7-53df-4a1e-a697-ec6bf1e408de",
   "metadata": {},
   "outputs": [
    {
     "name": "stdout",
     "output_type": "stream",
     "text": [
      "Number of duplicate rows in the data before treating: 1330\n",
      "Number of duplicate rows in the data after treating: 0\n"
     ]
    }
   ],
   "source": [
    "# data duplicates\n",
    "print('Number of duplicate rows in the data before treating:', data.duplicated().sum())\n",
    "data = data.drop_duplicates(ignore_index=True)\n",
    "print('Number of duplicate rows in the data after treating:', data.duplicated().sum())"
   ]
  },
  {
   "cell_type": "code",
   "execution_count": 18,
   "id": "e5734afb-0c7f-402e-a11e-fe753abac79f",
   "metadata": {},
   "outputs": [
    {
     "data": {
      "text/plain": [
       "CustomerID    float64\n",
       "InvoiceNo     float64\n",
       "Date           object\n",
       "Price         float64\n",
       "dtype: object"
      ]
     },
     "execution_count": 18,
     "metadata": {},
     "output_type": "execute_result"
    }
   ],
   "source": [
    "  # data type the data\n",
    "data.dtypes"
   ]
  },
  {
   "cell_type": "code",
   "execution_count": 19,
   "id": "da036171-080b-4d9f-8cbb-4ec682dd31d2",
   "metadata": {},
   "outputs": [
    {
     "data": {
      "text/plain": [
       "CustomerID             int32\n",
       "InvoiceNo              int32\n",
       "Date          datetime64[ns]\n",
       "Price                float64\n",
       "dtype: object"
      ]
     },
     "execution_count": 19,
     "metadata": {},
     "output_type": "execute_result"
    }
   ],
   "source": [
    "# Typecasting CustomerID\n",
    "data['CustomerID'] = data['CustomerID'].astype(int)\n",
    "data['InvoiceNo'] = data['InvoiceNo'].astype(int)\n",
    "data['Date'] = pd.to_datetime(data['Date'])\n",
    "\n",
    "\n",
    "# data type after typecasting\n",
    "data.dtypes"
   ]
  },
  {
   "cell_type": "code",
   "execution_count": 21,
   "id": "3a2cbc9d-ac39-40a2-9982-caea500cdbbb",
   "metadata": {},
   "outputs": [
    {
     "data": {
      "text/html": [
       "<div>\n",
       "<style scoped>\n",
       "    .dataframe tbody tr th:only-of-type {\n",
       "        vertical-align: middle;\n",
       "    }\n",
       "\n",
       "    .dataframe tbody tr th {\n",
       "        vertical-align: top;\n",
       "    }\n",
       "\n",
       "    .dataframe thead th {\n",
       "        text-align: right;\n",
       "    }\n",
       "</style>\n",
       "<table border=\"1\" class=\"dataframe\">\n",
       "  <thead>\n",
       "    <tr style=\"text-align: right;\">\n",
       "      <th></th>\n",
       "      <th>CustomerID</th>\n",
       "      <th>InvoiceNo</th>\n",
       "      <th>Date</th>\n",
       "      <th>Price</th>\n",
       "    </tr>\n",
       "  </thead>\n",
       "  <tbody>\n",
       "    <tr>\n",
       "      <th>0</th>\n",
       "      <td>4355</td>\n",
       "      <td>398177</td>\n",
       "      <td>2017-10-29</td>\n",
       "      <td>1926.0</td>\n",
       "    </tr>\n",
       "    <tr>\n",
       "      <th>1</th>\n",
       "      <td>4352</td>\n",
       "      <td>394422</td>\n",
       "      <td>2017-10-05</td>\n",
       "      <td>1740.0</td>\n",
       "    </tr>\n",
       "    <tr>\n",
       "      <th>2</th>\n",
       "      <td>4352</td>\n",
       "      <td>394422</td>\n",
       "      <td>2017-10-12</td>\n",
       "      <td>1866.0</td>\n",
       "    </tr>\n",
       "    <tr>\n",
       "      <th>3</th>\n",
       "      <td>4352</td>\n",
       "      <td>388633</td>\n",
       "      <td>2017-08-22</td>\n",
       "      <td>1869.0</td>\n",
       "    </tr>\n",
       "    <tr>\n",
       "      <th>4</th>\n",
       "      <td>4352</td>\n",
       "      <td>394422</td>\n",
       "      <td>2017-10-10</td>\n",
       "      <td>1888.0</td>\n",
       "    </tr>\n",
       "  </tbody>\n",
       "</table>\n",
       "</div>"
      ],
      "text/plain": [
       "   CustomerID  InvoiceNo       Date   Price\n",
       "0        4355     398177 2017-10-29  1926.0\n",
       "1        4352     394422 2017-10-05  1740.0\n",
       "2        4352     394422 2017-10-12  1866.0\n",
       "3        4352     388633 2017-08-22  1869.0\n",
       "4        4352     394422 2017-10-10  1888.0"
      ]
     },
     "execution_count": 21,
     "metadata": {},
     "output_type": "execute_result"
    }
   ],
   "source": [
    "# data sample\n",
    "data.head()"
   ]
  },
  {
   "cell_type": "code",
   "execution_count": 28,
   "id": "cb78f309-35c6-440c-b07e-6ad0931e218f",
   "metadata": {},
   "outputs": [
    {
     "data": {
      "text/plain": [
       "Timestamp('2017-12-19 00:00:00')"
      ]
     },
     "execution_count": 28,
     "metadata": {},
     "output_type": "execute_result"
    }
   ],
   "source": [
    " # maximum date of purchase\n",
    "data['Date'].max()"
   ]
  },
  {
   "cell_type": "code",
   "execution_count": 34,
   "id": "9aac4e19-17f7-4e78-aa0d-81e54b32830a",
   "metadata": {},
   "outputs": [
    {
     "data": {
      "text/plain": [
       "datetime.datetime(2017, 12, 20, 0, 0)"
      ]
     },
     "execution_count": 34,
     "metadata": {},
     "output_type": "execute_result"
    }
   ],
   "source": [
    "# #latest date of purchase\n",
    "latest_date = dt.datetime(2017, 12, 20)\n",
    "latest_date"
   ]
  },
  {
   "cell_type": "markdown",
   "id": "c70597ee-2c45-417a-b64e-bced3feea5ae",
   "metadata": {},
   "source": [
    "## RFM"
   ]
  },
  {
   "cell_type": "code",
   "execution_count": 37,
   "id": "eaee8db3-dfdd-4054-8bfd-89e15b33119a",
   "metadata": {},
   "outputs": [
    {
     "data": {
      "text/html": [
       "<div>\n",
       "<style scoped>\n",
       "    .dataframe tbody tr th:only-of-type {\n",
       "        vertical-align: middle;\n",
       "    }\n",
       "\n",
       "    .dataframe tbody tr th {\n",
       "        vertical-align: top;\n",
       "    }\n",
       "\n",
       "    .dataframe thead th {\n",
       "        text-align: right;\n",
       "    }\n",
       "</style>\n",
       "<table border=\"1\" class=\"dataframe\">\n",
       "  <thead>\n",
       "    <tr style=\"text-align: right;\">\n",
       "      <th></th>\n",
       "      <th>CustomerID</th>\n",
       "      <th>Recency</th>\n",
       "      <th>frequency</th>\n",
       "      <th>Monetory</th>\n",
       "    </tr>\n",
       "  </thead>\n",
       "  <tbody>\n",
       "    <tr>\n",
       "      <th>0</th>\n",
       "      <td>2</td>\n",
       "      <td>4</td>\n",
       "      <td>181</td>\n",
       "      <td>550416.0</td>\n",
       "    </tr>\n",
       "    <tr>\n",
       "      <th>1</th>\n",
       "      <td>3</td>\n",
       "      <td>77</td>\n",
       "      <td>27</td>\n",
       "      <td>257404.0</td>\n",
       "    </tr>\n",
       "    <tr>\n",
       "      <th>2</th>\n",
       "      <td>4</td>\n",
       "      <td>19</td>\n",
       "      <td>72</td>\n",
       "      <td>176613.0</td>\n",
       "    </tr>\n",
       "    <tr>\n",
       "      <th>3</th>\n",
       "      <td>5</td>\n",
       "      <td>311</td>\n",
       "      <td>16</td>\n",
       "      <td>41976.0</td>\n",
       "    </tr>\n",
       "    <tr>\n",
       "      <th>4</th>\n",
       "      <td>6</td>\n",
       "      <td>37</td>\n",
       "      <td>84</td>\n",
       "      <td>151822.0</td>\n",
       "    </tr>\n",
       "  </tbody>\n",
       "</table>\n",
       "</div>"
      ],
      "text/plain": [
       "   CustomerID  Recency  frequency  Monetory\n",
       "0           2        4        181  550416.0\n",
       "1           3       77         27  257404.0\n",
       "2           4       19         72  176613.0\n",
       "3           5      311         16   41976.0\n",
       "4           6       37         84  151822.0"
      ]
     },
     "execution_count": 37,
     "metadata": {},
     "output_type": "execute_result"
    }
   ],
   "source": [
    "#RFM function\n",
    "RFMScore= data.groupby('CustomerID').agg({'Date': lambda x: (latest_date-x.max()) .days,    #recency\n",
    "                                          'InvoiceNo': lambda x : x.count(),                    # Frequency\n",
    "                                         \"Price\": lambda x: x.sum()})                            # Monetory\n",
    "#Renaming columns \n",
    "RFMScore.rename(columns ={'Date': 'Recency' ,'InvoiceNo':'frequency', 'Price':'Monetory' }, inplace= True)\n",
    "\n",
    "\n",
    "# converting the data to dataframe\n",
    "RFMScore.reset_index().head()"
   ]
  },
  {
   "cell_type": "code",
   "execution_count": 39,
   "id": "fbf51aa5-58ef-4c08-ac8e-49219a73e2b8",
   "metadata": {},
   "outputs": [
    {
     "name": "stdout",
     "output_type": "stream",
     "text": [
      "For Recency the min value is 1 and max value is 381.\n",
      "For frequency the min value is 1 and max value is 7919.\n",
      "For Monetory the min value is -50372.0 and max value is 35472089.0.\n"
     ]
    }
   ],
   "source": [
    "# minimum and maximum values of each attributes\n",
    "for cols in RFMScore.columns:\n",
    "    print(f'For {cols} the min value is {RFMScore[cols].min()} and max value is {RFMScore[cols].max()}.')"
   ]
  },
  {
   "cell_type": "code",
   "execution_count": 41,
   "id": "b3d2b6c4-ae93-4302-bf5e-243b80a6aa8c",
   "metadata": {},
   "outputs": [
    {
     "data": {
      "text/plain": [
       "{'Recency': {0.25: 18.0, 0.5: 51.0, 0.75: 144.0},\n",
       " 'frequency': {0.25: 17.0, 0.5: 42.0, 0.75: 101.0},\n",
       " 'Monetory': {0.25: 38140.0, 0.5: 83635.0, 0.75: 205444.0}}"
      ]
     },
     "execution_count": 41,
     "metadata": {},
     "output_type": "execute_result"
    }
   ],
   "source": [
    " # Quantile or splitting the data\n",
    "quantile = RFMScore.quantile(q=[0.25, 0.5, 0.75])\n",
    "quantile = quantile.to_dict()\n",
    "quantile"
   ]
  },
  {
   "cell_type": "code",
   "execution_count": 43,
   "id": "f2ec6b93-ab39-4b97-8f0b-a922c5484ef2",
   "metadata": {},
   "outputs": [],
   "source": [
    "# Function for the score\n",
    "\n",
    "# lower the value of recency more valuable the customer is\n",
    "\n",
    "def recency_score(x, q, d):\n",
    "    if x <= d[q][0.25]:\n",
    "        return 1            # higher rank\n",
    "    elif x <= d[q][0.50]:\n",
    "        return 2\n",
    "    elif x <= d[q][0.75]:\n",
    "        return 3\n",
    "    else:\n",
    "        return 4            # lower rank\n",
    "\n",
    "# higher the value of frequency & monetory more valuable the customer is\n",
    "\n",
    "def FnM_Score(x, q, d):\n",
    "    if x <= d[q][0.25]:     # lower rank\n",
    "        return 4\n",
    "    elif x <= d[q][0.50]:\n",
    "        return 3\n",
    "    elif x <= d[q][0.75]:\n",
    "        return 2\n",
    "    else:\n",
    "        return 1            # higher rank"
   ]
  },
  {
   "cell_type": "code",
   "execution_count": 45,
   "id": "9d6fff2a-872b-4229-8026-08ab558a3596",
   "metadata": {},
   "outputs": [],
   "source": [
    "# columns to accomodate the scores from the function\n",
    "RFMScore['R'] = RFMScore['Recency'].apply(recency_score, args=('Recency', quantile, ))\n",
    "RFMScore['F'] = RFMScore['frequency'].apply(FnM_Score, args=('frequency', quantile, ))\n",
    "RFMScore['M'] = RFMScore['Monetory'].apply(FnM_Score, args=('Monetory', quantile, ))"
   ]
  },
  {
   "cell_type": "code",
   "execution_count": 47,
   "id": "4f0a9b51-268d-4319-adb8-89edddd5fef8",
   "metadata": {},
   "outputs": [
    {
     "data": {
      "text/html": [
       "<div>\n",
       "<style scoped>\n",
       "    .dataframe tbody tr th:only-of-type {\n",
       "        vertical-align: middle;\n",
       "    }\n",
       "\n",
       "    .dataframe tbody tr th {\n",
       "        vertical-align: top;\n",
       "    }\n",
       "\n",
       "    .dataframe thead th {\n",
       "        text-align: right;\n",
       "    }\n",
       "</style>\n",
       "<table border=\"1\" class=\"dataframe\">\n",
       "  <thead>\n",
       "    <tr style=\"text-align: right;\">\n",
       "      <th></th>\n",
       "      <th>Recency</th>\n",
       "      <th>frequency</th>\n",
       "      <th>Monetory</th>\n",
       "      <th>R</th>\n",
       "      <th>F</th>\n",
       "      <th>M</th>\n",
       "    </tr>\n",
       "    <tr>\n",
       "      <th>CustomerID</th>\n",
       "      <th></th>\n",
       "      <th></th>\n",
       "      <th></th>\n",
       "      <th></th>\n",
       "      <th></th>\n",
       "      <th></th>\n",
       "    </tr>\n",
       "  </thead>\n",
       "  <tbody>\n",
       "    <tr>\n",
       "      <th>2</th>\n",
       "      <td>4</td>\n",
       "      <td>181</td>\n",
       "      <td>550416.0</td>\n",
       "      <td>1</td>\n",
       "      <td>1</td>\n",
       "      <td>1</td>\n",
       "    </tr>\n",
       "    <tr>\n",
       "      <th>3</th>\n",
       "      <td>77</td>\n",
       "      <td>27</td>\n",
       "      <td>257404.0</td>\n",
       "      <td>3</td>\n",
       "      <td>3</td>\n",
       "      <td>1</td>\n",
       "    </tr>\n",
       "    <tr>\n",
       "      <th>4</th>\n",
       "      <td>19</td>\n",
       "      <td>72</td>\n",
       "      <td>176613.0</td>\n",
       "      <td>2</td>\n",
       "      <td>2</td>\n",
       "      <td>2</td>\n",
       "    </tr>\n",
       "    <tr>\n",
       "      <th>5</th>\n",
       "      <td>311</td>\n",
       "      <td>16</td>\n",
       "      <td>41976.0</td>\n",
       "      <td>4</td>\n",
       "      <td>4</td>\n",
       "      <td>3</td>\n",
       "    </tr>\n",
       "    <tr>\n",
       "      <th>6</th>\n",
       "      <td>37</td>\n",
       "      <td>84</td>\n",
       "      <td>151822.0</td>\n",
       "      <td>2</td>\n",
       "      <td>2</td>\n",
       "      <td>2</td>\n",
       "    </tr>\n",
       "  </tbody>\n",
       "</table>\n",
       "</div>"
      ],
      "text/plain": [
       "            Recency  frequency  Monetory  R  F  M\n",
       "CustomerID                                       \n",
       "2                 4        181  550416.0  1  1  1\n",
       "3                77         27  257404.0  3  3  1\n",
       "4                19         72  176613.0  2  2  2\n",
       "5               311         16   41976.0  4  4  3\n",
       "6                37         84  151822.0  2  2  2"
      ]
     },
     "execution_count": 47,
     "metadata": {},
     "output_type": "execute_result"
    }
   ],
   "source": [
    "# RFM data\n",
    "RFMScore.head()"
   ]
  },
  {
   "cell_type": "code",
   "execution_count": 49,
   "id": "1724d98b-9e31-4e01-a370-c913c1d291fe",
   "metadata": {},
   "outputs": [
    {
     "data": {
      "text/html": [
       "<div>\n",
       "<style scoped>\n",
       "    .dataframe tbody tr th:only-of-type {\n",
       "        vertical-align: middle;\n",
       "    }\n",
       "\n",
       "    .dataframe tbody tr th {\n",
       "        vertical-align: top;\n",
       "    }\n",
       "\n",
       "    .dataframe thead th {\n",
       "        text-align: right;\n",
       "    }\n",
       "</style>\n",
       "<table border=\"1\" class=\"dataframe\">\n",
       "  <thead>\n",
       "    <tr style=\"text-align: right;\">\n",
       "      <th></th>\n",
       "      <th>Recency</th>\n",
       "      <th>frequency</th>\n",
       "      <th>Monetory</th>\n",
       "      <th>R</th>\n",
       "      <th>F</th>\n",
       "      <th>M</th>\n",
       "      <th>LoyalityScore</th>\n",
       "    </tr>\n",
       "    <tr>\n",
       "      <th>CustomerID</th>\n",
       "      <th></th>\n",
       "      <th></th>\n",
       "      <th></th>\n",
       "      <th></th>\n",
       "      <th></th>\n",
       "      <th></th>\n",
       "      <th></th>\n",
       "    </tr>\n",
       "  </thead>\n",
       "  <tbody>\n",
       "    <tr>\n",
       "      <th>2</th>\n",
       "      <td>4</td>\n",
       "      <td>181</td>\n",
       "      <td>550416.0</td>\n",
       "      <td>1</td>\n",
       "      <td>1</td>\n",
       "      <td>1</td>\n",
       "      <td>3</td>\n",
       "    </tr>\n",
       "    <tr>\n",
       "      <th>3</th>\n",
       "      <td>77</td>\n",
       "      <td>27</td>\n",
       "      <td>257404.0</td>\n",
       "      <td>3</td>\n",
       "      <td>3</td>\n",
       "      <td>1</td>\n",
       "      <td>7</td>\n",
       "    </tr>\n",
       "    <tr>\n",
       "      <th>4</th>\n",
       "      <td>19</td>\n",
       "      <td>72</td>\n",
       "      <td>176613.0</td>\n",
       "      <td>2</td>\n",
       "      <td>2</td>\n",
       "      <td>2</td>\n",
       "      <td>6</td>\n",
       "    </tr>\n",
       "    <tr>\n",
       "      <th>5</th>\n",
       "      <td>311</td>\n",
       "      <td>16</td>\n",
       "      <td>41976.0</td>\n",
       "      <td>4</td>\n",
       "      <td>4</td>\n",
       "      <td>3</td>\n",
       "      <td>11</td>\n",
       "    </tr>\n",
       "    <tr>\n",
       "      <th>6</th>\n",
       "      <td>37</td>\n",
       "      <td>84</td>\n",
       "      <td>151822.0</td>\n",
       "      <td>2</td>\n",
       "      <td>2</td>\n",
       "      <td>2</td>\n",
       "      <td>6</td>\n",
       "    </tr>\n",
       "  </tbody>\n",
       "</table>\n",
       "</div>"
      ],
      "text/plain": [
       "            Recency  frequency  Monetory  R  F  M  LoyalityScore\n",
       "CustomerID                                                      \n",
       "2                 4        181  550416.0  1  1  1              3\n",
       "3                77         27  257404.0  3  3  1              7\n",
       "4                19         72  176613.0  2  2  2              6\n",
       "5               311         16   41976.0  4  4  3             11\n",
       "6                37         84  151822.0  2  2  2              6"
      ]
     },
     "execution_count": 49,
     "metadata": {},
     "output_type": "execute_result"
    }
   ],
   "source": [
    "# Loyality Score\n",
    "RFMScore['LoyalityScore'] = RFMScore[['R', 'F', 'M']].sum(axis=1)\n",
    "RFMScore.head()"
   ]
  },
  {
   "cell_type": "code",
   "execution_count": 51,
   "id": "43b19efd-0ab4-484a-9e08-57d9b341b2ca",
   "metadata": {},
   "outputs": [
    {
     "data": {
      "text/html": [
       "<div>\n",
       "<style scoped>\n",
       "    .dataframe tbody tr th:only-of-type {\n",
       "        vertical-align: middle;\n",
       "    }\n",
       "\n",
       "    .dataframe tbody tr th {\n",
       "        vertical-align: top;\n",
       "    }\n",
       "\n",
       "    .dataframe thead th {\n",
       "        text-align: right;\n",
       "    }\n",
       "</style>\n",
       "<table border=\"1\" class=\"dataframe\">\n",
       "  <thead>\n",
       "    <tr style=\"text-align: right;\">\n",
       "      <th></th>\n",
       "      <th>Recency</th>\n",
       "      <th>frequency</th>\n",
       "      <th>Monetory</th>\n",
       "      <th>R</th>\n",
       "      <th>F</th>\n",
       "      <th>M</th>\n",
       "      <th>LoyalityScore</th>\n",
       "      <th>LoyalityBadge</th>\n",
       "    </tr>\n",
       "    <tr>\n",
       "      <th>CustomerID</th>\n",
       "      <th></th>\n",
       "      <th></th>\n",
       "      <th></th>\n",
       "      <th></th>\n",
       "      <th></th>\n",
       "      <th></th>\n",
       "      <th></th>\n",
       "      <th></th>\n",
       "    </tr>\n",
       "  </thead>\n",
       "  <tbody>\n",
       "    <tr>\n",
       "      <th>2</th>\n",
       "      <td>4</td>\n",
       "      <td>181</td>\n",
       "      <td>550416.0</td>\n",
       "      <td>1</td>\n",
       "      <td>1</td>\n",
       "      <td>1</td>\n",
       "      <td>3</td>\n",
       "      <td>Platinum</td>\n",
       "    </tr>\n",
       "    <tr>\n",
       "      <th>3</th>\n",
       "      <td>77</td>\n",
       "      <td>27</td>\n",
       "      <td>257404.0</td>\n",
       "      <td>3</td>\n",
       "      <td>3</td>\n",
       "      <td>1</td>\n",
       "      <td>7</td>\n",
       "      <td>Gold</td>\n",
       "    </tr>\n",
       "    <tr>\n",
       "      <th>4</th>\n",
       "      <td>19</td>\n",
       "      <td>72</td>\n",
       "      <td>176613.0</td>\n",
       "      <td>2</td>\n",
       "      <td>2</td>\n",
       "      <td>2</td>\n",
       "      <td>6</td>\n",
       "      <td>Gold</td>\n",
       "    </tr>\n",
       "    <tr>\n",
       "      <th>5</th>\n",
       "      <td>311</td>\n",
       "      <td>16</td>\n",
       "      <td>41976.0</td>\n",
       "      <td>4</td>\n",
       "      <td>4</td>\n",
       "      <td>3</td>\n",
       "      <td>11</td>\n",
       "      <td>Bronze</td>\n",
       "    </tr>\n",
       "    <tr>\n",
       "      <th>6</th>\n",
       "      <td>37</td>\n",
       "      <td>84</td>\n",
       "      <td>151822.0</td>\n",
       "      <td>2</td>\n",
       "      <td>2</td>\n",
       "      <td>2</td>\n",
       "      <td>6</td>\n",
       "      <td>Gold</td>\n",
       "    </tr>\n",
       "  </tbody>\n",
       "</table>\n",
       "</div>"
      ],
      "text/plain": [
       "            Recency  frequency  Monetory  R  F  M  LoyalityScore LoyalityBadge\n",
       "CustomerID                                                                    \n",
       "2                 4        181  550416.0  1  1  1              3      Platinum\n",
       "3                77         27  257404.0  3  3  1              7          Gold\n",
       "4                19         72  176613.0  2  2  2              6          Gold\n",
       "5               311         16   41976.0  4  4  3             11        Bronze\n",
       "6                37         84  151822.0  2  2  2              6          Gold"
      ]
     },
     "execution_count": 51,
     "metadata": {},
     "output_type": "execute_result"
    }
   ],
   "source": [
    "# Loyality Badge\n",
    "badge = ['Platinum', 'Gold', 'Silver', 'Bronze']\n",
    "score_cut = pd.qcut(RFMScore.LoyalityScore, 4, labels=badge)\n",
    "RFMScore['LoyalityBadge'] = score_cut.values\n",
    "RFMScore.head()"
   ]
  },
  {
   "cell_type": "code",
   "execution_count": 53,
   "id": "ea8b8fc6-754b-47af-9609-ace81c16389a",
   "metadata": {},
   "outputs": [
    {
     "data": {
      "text/html": [
       "<div>\n",
       "<style scoped>\n",
       "    .dataframe tbody tr th:only-of-type {\n",
       "        vertical-align: middle;\n",
       "    }\n",
       "\n",
       "    .dataframe tbody tr th {\n",
       "        vertical-align: top;\n",
       "    }\n",
       "\n",
       "    .dataframe thead th {\n",
       "        text-align: right;\n",
       "    }\n",
       "</style>\n",
       "<table border=\"1\" class=\"dataframe\">\n",
       "  <thead>\n",
       "    <tr style=\"text-align: right;\">\n",
       "      <th></th>\n",
       "      <th>CustomerID</th>\n",
       "      <th>Recency</th>\n",
       "      <th>frequency</th>\n",
       "      <th>Monetory</th>\n",
       "      <th>LoyalityBadge</th>\n",
       "    </tr>\n",
       "  </thead>\n",
       "  <tbody>\n",
       "    <tr>\n",
       "      <th>0</th>\n",
       "      <td>2</td>\n",
       "      <td>4</td>\n",
       "      <td>181</td>\n",
       "      <td>550416.0</td>\n",
       "      <td>Platinum</td>\n",
       "    </tr>\n",
       "    <tr>\n",
       "      <th>1</th>\n",
       "      <td>3</td>\n",
       "      <td>77</td>\n",
       "      <td>27</td>\n",
       "      <td>257404.0</td>\n",
       "      <td>Gold</td>\n",
       "    </tr>\n",
       "    <tr>\n",
       "      <th>2</th>\n",
       "      <td>4</td>\n",
       "      <td>19</td>\n",
       "      <td>72</td>\n",
       "      <td>176613.0</td>\n",
       "      <td>Gold</td>\n",
       "    </tr>\n",
       "    <tr>\n",
       "      <th>3</th>\n",
       "      <td>5</td>\n",
       "      <td>311</td>\n",
       "      <td>16</td>\n",
       "      <td>41976.0</td>\n",
       "      <td>Bronze</td>\n",
       "    </tr>\n",
       "    <tr>\n",
       "      <th>4</th>\n",
       "      <td>6</td>\n",
       "      <td>37</td>\n",
       "      <td>84</td>\n",
       "      <td>151822.0</td>\n",
       "      <td>Gold</td>\n",
       "    </tr>\n",
       "  </tbody>\n",
       "</table>\n",
       "</div>"
      ],
      "text/plain": [
       "   CustomerID  Recency  frequency  Monetory LoyalityBadge\n",
       "0           2        4        181  550416.0      Platinum\n",
       "1           3       77         27  257404.0          Gold\n",
       "2           4       19         72  176613.0          Gold\n",
       "3           5      311         16   41976.0        Bronze\n",
       "4           6       37         84  151822.0          Gold"
      ]
     },
     "execution_count": 53,
     "metadata": {},
     "output_type": "execute_result"
    }
   ],
   "source": [
    "# Segmeneted data\n",
    "segemented_data = RFMScore.reset_index()\n",
    "segemented_data = segemented_data[['CustomerID', 'Recency', 'frequency', 'Monetory', 'LoyalityBadge']]\n",
    "\n",
    "# mapped data sample\n",
    "segemented_data.head()"
   ]
  },
  {
   "cell_type": "code",
   "execution_count": 55,
   "id": "39fa5d21-dfb6-4c74-a7d2-ca614763aae5",
   "metadata": {},
   "outputs": [
    {
     "data": {
      "image/png": "[encoded data removed]",
      "text/plain": [
       "<Figure size 640x480 with 1 Axes>"
      ]
     },
     "metadata": {},
     "output_type": "display_data"
    }
   ],
   "source": [
    "# Distribution of the customers\n",
    "ax = sns.countplot(x=segemented_data['LoyalityBadge'],\n",
    "              order=segemented_data['LoyalityBadge'].value_counts().index)\n",
    "ax.bar_label(ax.containers[0])\n",
    "plt.show()"
   ]
  },
  {
   "cell_type": "code",
   "execution_count": 59,
   "id": "b4d71d4d-ce2b-4a11-8838-d0656f04d5fb",
   "metadata": {},
   "outputs": [],
   "source": [
    "# Exporting the segemented_data as csv for further usecase\n",
    "segemented_data.to_csv('segemented_data.csv')"
   ]
  },
  {
   "cell_type": "code",
   "execution_count": null,
   "id": "a78a7e89-bbad-4e70-bda9-7a2f15205d24",
   "metadata": {},
   "outputs": [],
   "source": []
  }
 ],
 "metadata": {
  "kernelspec": {
   "display_name": "Python 3 (ipykernel)",
   "language": "python",
   "name": "python3"
  },
  "language_info": {
   "codemirror_mode": {
    "name": "ipython",
    "version": 3
   },
   "file_extension": ".py",
   "mimetype": "text/x-python",
   "name": "python",
   "nbconvert_exporter": "python",
   "pygments_lexer": "ipython3",
   "version": "3.11.4"
  }
 },
 "nbformat": 4,
 "nbformat_minor": 5
}
